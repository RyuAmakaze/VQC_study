{
 "cells": [
  {
   "attachments": {},
   "cell_type": "markdown",
   "id": "ideal-strategy",
   "metadata": {},
   "source": [
    "# Training a Quantum Model on a Real Dataset\n",
    "\n",
    "This tutorial will demonstrate how to train a quantum machine learning model to tackle a classification problem. Previous tutorials have featured small, artificial datasets. Here we will increase the problem complexity by considering a real-life classical dataset. We decided to pick a very well-known – albeit still relatively small – problem: the Iris flower dataset. This dataset even has its own Wikipedia [page](https://en.wikipedia.org/wiki/Iris_flower_data_set). Although the Iris dataset is well known to data scientists, we will briefly introduce it to refresh our memories. For comparison, we'll first train a classical counterpart to the quantum model.\n",
    "\n",
    "So, let's get started:\n",
    "\n",
    "- First, we'll load the dataset and explore what it looks like.\n",
    "- Next, we'll train a classical model using [SVC](https://scikit-learn.org/stable/modules/generated/sklearn.svm.SVC.html) from [scikit-learn](https://scikit-learn.org/) to see how well the classification problem can be solved using classical methods.\n",
    "- After that, we'll introduce the Variational Quantum Classifier (VQC).\n",
    "- To conclude, we'll compare the results obtained from both models.\n",
    "\n",
    "## 1. Exploratory Data Analysis\n",
    "\n",
    "First, let us explore the Iris dataset this tutorial will use and see what it contains. For our convenience, this [dataset](https://scikit-learn.org/stable/datasets/toy_dataset.html#iris-dataset) is available in scikit-learn and can be loaded easily."
   ]
  },
  {
   "cell_type": "code",
   "execution_count": null,
   "id": "26c2d79d",
   "metadata": {},
   "outputs": [],
   "source": [
    "!pip install -r requirements.txt"
   ]
  },
  {
   "cell_type": "code",
   "execution_count": null,
   "id": "valued-leeds",
   "metadata": {},
   "outputs": [],
   "source": [
    "from sklearn.datasets import load_iris\n",
    "\n",
    "iris_data = load_iris()"
   ]
  },
  {
   "cell_type": "code",
   "execution_count": null,
   "id": "everyday-commission",
   "metadata": {},
   "outputs": [],
   "source": [
    "print(iris_data.DESCR)"
   ]
  },
  {
   "attachments": {},
   "cell_type": "markdown",
   "id": "arctic-girlfriend",
   "metadata": {},
   "source": [
    "There are a few interesting observations we can find from this dataset description:\n",
    "\n",
    "- There are 150 samples (instances) in the dataset.\n",
    "- There are four features (attributes) in each sample.\n",
    "- There are three labels (classes) in the dataset.\n",
    "- The dataset is perfectly balanced, as there are the same number of samples (50) in each class.\n",
    "- We can see features are not normalized, and their value ranges are different, e.g., $[4.3, 7.9]$ and $[0.1, 2.5]$ for sepal length and petal width, respectively. So, transforming the features to the same scale may be helpful.\n",
    "- As stated in the table above, feature-to-class correlation in some cases is very high; this may lead us to think that our model should cope well with the dataset.\n",
    "\n",
    "We only examined the dataset description, but additional properties are available in the `iris_data` object. Now we are going to work with features and labels from the dataset."
   ]
  },
  {
   "cell_type": "code",
   "execution_count": null,
   "id": "mobile-dictionary",
   "metadata": {},
   "outputs": [],
   "source": [
    "features = iris_data.data\n",
    "labels = iris_data.target"
   ]
  },
  {
   "attachments": {},
   "cell_type": "markdown",
   "id": "signed-iraqi",
   "metadata": {},
   "source": [
    "Firstly, we'll normalize the features. Namely, we will apply a simple transformation to represent all features on the same scale. In our case, we squeeze all features onto the interval $[0, 1]$. Normalization is a common technique in machine learning and often leads to better numerical stability and convergence of an algorithm.\n",
    "\n",
    "We can use `MinMaxScaler` from scikit-learn to perform this. Without specifying parameters, this does exactly what is required: maps data onto $[0, 1]$."
   ]
  },
  {
   "cell_type": "code",
   "execution_count": null,
   "id": "alternative-preliminary",
   "metadata": {},
   "outputs": [],
   "source": [
    "from sklearn.preprocessing import MinMaxScaler\n",
    "\n",
    "features = MinMaxScaler().fit_transform(features)"
   ]
  },
  {
   "attachments": {},
   "cell_type": "markdown",
   "id": "phantom-hollow",
   "metadata": {},
   "source": [
    "Let's see how our data looks. We plot the features pair-wise to see if there's an observable correlation between them."
   ]
  },
  {
   "cell_type": "code",
   "execution_count": null,
   "id": "whole-exhaust",
   "metadata": {
    "tags": [
     "nbsphinx-thumbnail"
    ]
   },
   "outputs": [],
   "source": [
    "import pandas as pd\n",
    "import seaborn as sns\n",
    "\n",
    "df = pd.DataFrame(iris_data.data, columns=iris_data.feature_names)\n",
    "df[\"class\"] = pd.Series(iris_data.target)\n",
    "\n",
    "sns.pairplot(df, hue=\"class\", palette=\"tab10\")"
   ]
  },
  {
   "attachments": {},
   "cell_type": "markdown",
   "id": "quarterly-adult",
   "metadata": {},
   "source": [
    "From the plots, we see that class `0` is easily separable from the other two classes, while classes `1` and `2` are sometimes intertwined, especially regarding the \"sepal width\" feature.\n",
    "\n",
    "Next, let's see how classical machine learning handles this dataset. \n",
    "\n",
    "## 2. Training a Classical Machine Learning Model\n",
    "\n",
    "Before we train a model, we should split the dataset into two parts: a training dataset and a test dataset. We'll use the former to train the model and the latter to verify how well our models perform on unseen data.\n",
    "\n",
    "As usual, we'll ask scikit-learn to do the boring job for us. We'll also fix the seed to ensure the results are reproducible."
   ]
  },
  {
   "cell_type": "code",
   "execution_count": null,
   "id": "pursuant-survival",
   "metadata": {},
   "outputs": [],
   "source": [
    "from sklearn.model_selection import train_test_split\n",
    "from qiskit_algorithms.utils import algorithm_globals\n",
    "\n",
    "algorithm_globals.random_seed = 123\n",
    "train_features, test_features, train_labels, test_labels = train_test_split(\n",
    "    features, labels, train_size=0.8, random_state=algorithm_globals.random_seed\n",
    ")"
   ]
  },
  {
   "attachments": {},
   "cell_type": "markdown",
   "id": "close-festival",
   "metadata": {},
   "source": [
    "We train a classical Support Vector Classifier from scikit-learn. For the sake of simplicity, we don't tweak any parameters and rely on the default values."
   ]
  },
  {
   "cell_type": "code",
   "execution_count": null,
   "id": "proved-reviewer",
   "metadata": {},
   "outputs": [],
   "source": [
    "from sklearn.svm import SVC\n",
    "\n",
    "svc = SVC()\n",
    "_ = svc.fit(train_features, train_labels)  # suppress printing the return value"
   ]
  },
  {
   "attachments": {},
   "cell_type": "markdown",
   "id": "earned-destination",
   "metadata": {},
   "source": [
    "Now we check out how well our classical model performs. We will analyze the scores in the conclusion section."
   ]
  },
  {
   "cell_type": "code",
   "execution_count": null,
   "id": "veterinary-proxy",
   "metadata": {},
   "outputs": [],
   "source": [
    "train_score_c4 = svc.score(train_features, train_labels)\n",
    "test_score_c4 = svc.score(test_features, test_labels)\n",
    "\n",
    "print(f\"Classical SVC on the training dataset: {train_score_c4:.2f}\")\n",
    "print(f\"Classical SVC on the test dataset:     {test_score_c4:.2f}\")"
   ]
  },
  {
   "attachments": {},
   "cell_type": "markdown",
   "id": "limited-hybrid",
   "metadata": {},
   "source": [
    "As can be seen from the scores, the classical SVC algorithm performs very well. Next up, it's time to look at quantum machine learning models.\n",
    "\n",
    "## 3. Training a Quantum Machine Learning Model\n",
    "\n",
    "As an example of a quantum model, we'll train a variational quantum classifier (VQC). The VQC is the simplest classifier available in Qiskit Machine Learning and is a good starting point for newcomers to quantum machine learning who have a background in classical machine learning.\n",
    "\n",
    "But before we train a model, let's examine what comprises the `VQC` class. Two of its central elements are the feature map and ansatz. What these are will now be explained.\n",
    "\n",
    "Our data is classical, meaning it consists of a set of bits, not qubits. We need a way to encode the data as qubits. This process is crucial if we want to obtain an effective quantum model. We usually refer to this mapping as data encoding, data embedding, or data loading and this is the role of the feature map. While feature mapping is a common ML mechanism, this process of loading data into quantum states does not appear in classical machine learning as that only operates in the classical world.\n",
    "\n",
    "Once the data is loaded, we must immediately apply a parameterized quantum circuit. This circuit is a direct analog to the layers in classical neural networks. It has a set of tunable parameters or weights. The weights are optimized such that they minimize an objective function. This objective function characterizes the distance between the predictions and known labeled data. A parameterized quantum circuit is also called a parameterized trial state, variational form, or ansatz. Perhaps, the latter is the most widely used term.\n",
    "\n",
    "For more information, we direct the reader to the [Quantum Machine Learning Course GitHub](https://github.com/Qiskit/textbook/tree/main/notebooks/quantum-machine-learning#).\n",
    "\n",
    "Our choice of feature map will be the ``ZZFeatureMap``. The ``ZZFeatureMap`` is one of the standard feature maps in the Qiskit circuit library. We pass `num_features` as `feature_dimension`, meaning the feature map will have `num_features` or `4` qubits.\n",
    "\n",
    "We decompose the feature map into its constituent gates to give the reader a flavor of how feature maps may look."
   ]
  },
  {
   "cell_type": "code",
   "execution_count": null,
   "id": "optional-pocket",
   "metadata": {},
   "outputs": [],
   "source": [
    "from qiskit.circuit.library import ZZFeatureMap\n",
    "\n",
    "num_features = features.shape[1]\n",
    "\n",
    "feature_map = ZZFeatureMap(feature_dimension=num_features, reps=1)\n",
    "feature_map.decompose().draw(output=\"mpl\", style=\"clifford\", fold=20)"
   ]
  },
  {
   "attachments": {},
   "cell_type": "markdown",
   "id": "billion-advance",
   "metadata": {},
   "source": [
    "If no parameters are specified in the `load_iris` function, then a dictionary-like object is returned by scikit-learn. Let's print the description of the dataset and see what is inside."
   ]
  },
  {
   "attachments": {},
   "cell_type": "markdown",
   "id": "noticed-airport",
   "metadata": {},
   "source": [
    "If you look closely at the feature map diagram, you will notice parameters `x[0], ..., x[3]`. These are placeholders for our features.\n",
    "\n",
    "Now we create and plot our ansatz. Pay attention to the repetitive structure of the ansatz circuit. We define the number of these repetitions using the `reps` parameter."
   ]
  },
  {
   "cell_type": "code",
   "execution_count": null,
   "id": "elder-interaction",
   "metadata": {},
   "outputs": [],
   "source": [
    "from qiskit.circuit.library import RealAmplitudes\n",
    "\n",
    "ansatz = RealAmplitudes(num_qubits=num_features, reps=3)\n",
    "ansatz.decompose().draw(output=\"mpl\", style=\"clifford\", fold=20)"
   ]
  },
  {
   "attachments": {},
   "cell_type": "markdown",
   "id": "comic-bumper",
   "metadata": {},
   "source": [
    "This circuit has 16 parameters named `θ[0], ..., θ[15]`. These are the trainable weights of the classifier.\n",
    "\n",
    "We then choose an optimization algorithm to use in the training process. This step is similar to what you may find in classical deep learning frameworks. To make the training process faster, we choose a gradient-free optimizer. You may explore other optimizers available in Qiskit."
   ]
  },
  {
   "cell_type": "code",
   "execution_count": null,
   "id": "intimate-doubt",
   "metadata": {},
   "outputs": [],
   "source": [
    "from qiskit_algorithms.optimizers import COBYLA\n",
    "\n",
    "optimizer = COBYLA(maxiter=100)"
   ]
  },
  {
   "attachments": {},
   "cell_type": "markdown",
   "id": "integral-compound",
   "metadata": {},
   "source": [
    "In the next step, we define where to train our classifier. We can train on a simulator or a real quantum computer. Here, we will use a simulator. We create an instance of the `Sampler` primitive. This is the reference implementation that is statevector based. Using qiskit runtime services you can create a sampler that is backed by a quantum computer."
   ]
  },
  {
   "cell_type": "code",
   "execution_count": null,
   "id": "unauthorized-footwear",
   "metadata": {},
   "outputs": [],
   "source": [
    "from qiskit.primitives import Sampler\n",
    "\n",
    "sampler = Sampler()"
   ]
  },
  {
   "attachments": {},
   "cell_type": "markdown",
   "id": "seeing-charles",
   "metadata": {},
   "source": [
    "We will add a callback function called `callback_graph`. `VQC` will call this function for each evaluation of the objective function with two parameters: the current weights and the value of the objective function at those weights. Our callback will append the value of the objective function to an array so we can plot the iteration versus the objective function value. The callback will update the plot at each iteration. Note that you can do whatever you want inside a callback function, so long as it has the two-parameter signature we mentioned above."
   ]
  },
  {
   "cell_type": "code",
   "execution_count": null,
   "id": "connected-reach",
   "metadata": {},
   "outputs": [],
   "source": [
    "from matplotlib import pyplot as plt\n",
    "from IPython.display import clear_output\n",
    "\n",
    "objective_func_vals = []\n",
    "plt.rcParams[\"figure.figsize\"] = (12, 6)\n",
    "\n",
    "\n",
    "def callback_graph(weights, obj_func_eval):\n",
    "    clear_output(wait=True)\n",
    "    objective_func_vals.append(obj_func_eval)\n",
    "    plt.title(\"Objective function value against iteration\")\n",
    "    plt.xlabel(\"Iteration\")\n",
    "    plt.ylabel(\"Objective function value\")\n",
    "    plt.plot(range(len(objective_func_vals)), objective_func_vals)\n",
    "    plt.show()"
   ]
  },
  {
   "attachments": {},
   "cell_type": "markdown",
   "id": "freelance-wesley",
   "metadata": {},
   "source": [
    "Now we are ready to construct the classifier and fit it. \n",
    "\n",
    "`VQC` stands for \"variational quantum classifier.\" It takes a feature map and an ansatz and constructs a quantum neural network automatically. In the simplest case it is enough to pass the number of qubits and a quantum instance to construct a valid classifier. You may omit the `sampler` parameter, in this case a `Sampler` instance will be created for you in the way we created it earlier. We created it manually for illustrative purposes only.\n",
    "\n",
    "Training may take some time. Please, be patient."
   ]
  },
  {
   "cell_type": "code",
   "execution_count": null,
   "id": "multiple-garbage",
   "metadata": {},
   "outputs": [],
   "source": [
    "import time\n",
    "from qiskit_machine_learning.algorithms.classifiers import VQC\n",
    "\n",
    "vqc = VQC(\n",
    "    sampler=sampler,\n",
    "    feature_map=feature_map,\n",
    "    ansatz=ansatz,\n",
    "    optimizer=optimizer,\n",
    "    callback=callback_graph,\n",
    ")\n",
    "\n",
    "# clear objective value history\n",
    "objective_func_vals = []\n",
    "\n",
    "start = time.time()\n",
    "vqc.fit(train_features, train_labels)\n",
    "elapsed = time.time() - start\n",
    "\n",
    "print(f\"Training time: {round(elapsed)} seconds\")"
   ]
  },
  {
   "attachments": {},
   "cell_type": "markdown",
   "id": "laughing-regulation",
   "metadata": {},
   "source": [
    "Let's see how the quantum model performs on the real-life dataset."
   ]
  },
  {
   "cell_type": "code",
   "execution_count": null,
   "id": "formed-mineral",
   "metadata": {},
   "outputs": [],
   "source": [
    "train_score_q4 = vqc.score(train_features, train_labels)\n",
    "test_score_q4 = vqc.score(test_features, test_labels)\n",
    "\n",
    "print(f\"Quantum VQC on the training dataset: {train_score_q4:.2f}\")\n",
    "print(f\"Quantum VQC on the test dataset:     {test_score_q4:.2f}\")"
   ]
  },
  {
   "attachments": {},
   "cell_type": "markdown",
   "id": "minimal-deviation",
   "metadata": {},
   "source": [
    "As we can see, the scores are high, and the model can be used to predict labels on unseen data.\n",
    "\n",
    "Now let's see what we can tune to get even better models.\n",
    "\n",
    "- The key components are the feature map and the ansatz. You can tweak parameters. In our case, you may change the `reps` parameter that specifies how repetitions of a gate pattern we add to the circuit. Larger values lead to more entanglement operations and more parameters. Thus, the model can be more flexible, but the higher number of parameters also adds complexity, and training such a model usually takes more time. Furthermore, we may end up overfitting the model. You can try the other feature maps and ansatzes available in the [Qiskit circuit library](https://docs.quantum.ibm.com/api/qiskit/circuit_library#n-local-circuits), or you can come up with custom circuits.\n",
    "- You may try other optimizers. Qiskit contains a bunch of them. Some of them are gradient-free, others not. If you choose a gradient-based optimizer, e.g., `L_BFGS_B`, expect the training time to increase. Additionally to the objective function, these optimizers must evaluate the gradient with respect to the training parameters, which leads to an increased number of circuit executions per iteration.\n",
    "- Another option is to randomly (or deterministically) sample `initial_point` and fit the model several times.\n",
    "\n",
    "But what if a dataset contains more features than a modern quantum computer can handle? Recall, in this example, we had the same number of qubits as the number of features in the dataset, but this may not always be the case.\n",
    "\n",
    "## 4. Reducing the Number of Features\n",
    "\n",
    "In this section, we reduce the number of features in our dataset and train our models again. We'll move through faster this time as the steps are the same except for the first, where we apply a PCA transformation. \n",
    "\n",
    "We transform our four features into two features only. This dimensionality reduction is for educational purposes only. As you saw in the previous section, we can train a quantum model using all four features from the dataset.\n",
    "\n",
    "Now, we can easily plot these two features on a single figure."
   ]
  },
  {
   "cell_type": "code",
   "execution_count": null,
   "id": "painted-montreal",
   "metadata": {},
   "outputs": [],
   "source": [
    "from sklearn.decomposition import PCA\n",
    "\n",
    "features = PCA(n_components=2).fit_transform(features)\n",
    "\n",
    "plt.rcParams[\"figure.figsize\"] = (6, 6)\n",
    "sns.scatterplot(x=features[:, 0], y=features[:, 1], hue=labels, palette=\"tab10\")"
   ]
  },
  {
   "attachments": {},
   "cell_type": "markdown",
   "id": "modular-hometown",
   "metadata": {},
   "source": [
    "As usual, we split the dataset first, then fit a classical model."
   ]
  },
  {
   "cell_type": "code",
   "execution_count": null,
   "id": "naval-agriculture",
   "metadata": {},
   "outputs": [],
   "source": [
    "train_features, test_features, train_labels, test_labels = train_test_split(\n",
    "    features, labels, train_size=0.8, random_state=algorithm_globals.random_seed\n",
    ")\n",
    "\n",
    "svc.fit(train_features, train_labels)\n",
    "\n",
    "train_score_c2 = svc.score(train_features, train_labels)\n",
    "test_score_c2 = svc.score(test_features, test_labels)\n",
    "\n",
    "print(f\"Classical SVC on the training dataset: {train_score_c2:.2f}\")\n",
    "print(f\"Classical SVC on the test dataset:     {test_score_c2:.2f}\")"
   ]
  },
  {
   "attachments": {},
   "cell_type": "markdown",
   "id": "chemical-subcommittee",
   "metadata": {},
   "source": [
    "The results are still good but slightly worse compared to the initial version. Let's see how a quantum model deals with them. As we now have two qubits, we must recreate the feature map and ansatz."
   ]
  },
  {
   "cell_type": "code",
   "execution_count": null,
   "id": "electric-novel",
   "metadata": {},
   "outputs": [],
   "source": [
    "num_features = features.shape[1]\n",
    "\n",
    "feature_map = ZZFeatureMap(feature_dimension=num_features, reps=1)\n",
    "ansatz = RealAmplitudes(num_qubits=num_features, reps=3)"
   ]
  },
  {
   "attachments": {},
   "cell_type": "markdown",
   "id": "competent-johnston",
   "metadata": {},
   "source": [
    "We also reduce the maximum number of iterations we run the optimization process for, as we expect it to converge faster because we now have fewer qubits."
   ]
  },
  {
   "cell_type": "code",
   "execution_count": null,
   "id": "younger-louisiana",
   "metadata": {},
   "outputs": [],
   "source": [
    "optimizer = COBYLA(maxiter=40)"
   ]
  },
  {
   "attachments": {},
   "cell_type": "markdown",
   "id": "proprietary-cookbook",
   "metadata": {},
   "source": [
    "Now we construct a quantum classifier from the new parameters and train it. "
   ]
  },
  {
   "cell_type": "code",
   "execution_count": null,
   "id": "varied-capital",
   "metadata": {},
   "outputs": [],
   "source": [
    "vqc = VQC(\n",
    "    sampler=sampler,\n",
    "    feature_map=feature_map,\n",
    "    ansatz=ansatz,\n",
    "    optimizer=optimizer,\n",
    "    callback=callback_graph,\n",
    ")\n",
    "\n",
    "# clear objective value history\n",
    "objective_func_vals = []\n",
    "\n",
    "# make the objective function plot look nicer.\n",
    "plt.rcParams[\"figure.figsize\"] = (12, 6)\n",
    "\n",
    "\n",
    "start = time.time()\n",
    "vqc.fit(train_features, train_labels)\n",
    "elapsed = time.time() - start\n",
    "\n",
    "print(f\"Training time: {round(elapsed)} seconds\")"
   ]
  },
  {
   "cell_type": "code",
   "execution_count": null,
   "id": "developmental-crazy",
   "metadata": {},
   "outputs": [],
   "source": [
    "train_score_q2_ra = vqc.score(train_features, train_labels)\n",
    "test_score_q2_ra = vqc.score(test_features, test_labels)\n",
    "\n",
    "print(f\"Quantum VQC on the training dataset using RealAmplitudes: {train_score_q2_ra:.2f}\")\n",
    "print(f\"Quantum VQC on the test dataset using RealAmplitudes:     {test_score_q2_ra:.2f}\")"
   ]
  },
  {
   "attachments": {},
   "cell_type": "markdown",
   "id": "quarterly-singing",
   "metadata": {},
   "source": [
    "Well, the scores are higher than a fair coin toss but could be better. The objective function is almost flat towards the end, meaning increasing the number of iterations won't help, and model performance will stay the same. Let's see what we can do with another ansatz."
   ]
  },
  {
   "cell_type": "code",
   "execution_count": null,
   "id": "convinced-seven",
   "metadata": {},
   "outputs": [],
   "source": [
    "from qiskit.circuit.library import EfficientSU2\n",
    "\n",
    "ansatz = EfficientSU2(num_qubits=num_features, reps=3)\n",
    "optimizer = COBYLA(maxiter=40)\n",
    "\n",
    "vqc = VQC(\n",
    "    sampler=sampler,\n",
    "    feature_map=feature_map,\n",
    "    ansatz=ansatz,\n",
    "    optimizer=optimizer,\n",
    "    callback=callback_graph,\n",
    ")\n",
    "\n",
    "# clear objective value history\n",
    "objective_func_vals = []\n",
    "\n",
    "start = time.time()\n",
    "vqc.fit(train_features, train_labels)\n",
    "elapsed = time.time() - start\n",
    "\n",
    "print(f\"Training time: {round(elapsed)} seconds\")"
   ]
  },
  {
   "cell_type": "code",
   "execution_count": null,
   "id": "painted-reverse",
   "metadata": {},
   "outputs": [],
   "source": [
    "train_score_q2_eff = vqc.score(train_features, train_labels)\n",
    "test_score_q2_eff = vqc.score(test_features, test_labels)\n",
    "\n",
    "print(f\"Quantum VQC on the training dataset using EfficientSU2: {train_score_q2_eff:.2f}\")\n",
    "print(f\"Quantum VQC on the test dataset using EfficientSU2:     {test_score_q2_eff:.2f}\")"
   ]
  },
  {
   "attachments": {},
   "cell_type": "markdown",
   "id": "alike-norway",
   "metadata": {},
   "source": [
    "The scores are better than in the previous setup. Perhaps if we had used more iterations, we could do even better."
   ]
  },
  {
   "attachments": {},
   "cell_type": "markdown",
   "id": "fluid-truck",
   "metadata": {},
   "source": [
    "## 5. Conclusion\n",
    "\n",
    "In this tutorial, we have built two classical and three quantum machine learning models. Let's print an overall table with our results."
   ]
  },
  {
   "cell_type": "code",
   "execution_count": null,
   "id": "educated-snake",
   "metadata": {},
   "outputs": [],
   "source": [
    "print(f\"Model                           | Test Score | Train Score\")\n",
    "print(f\"SVC, 4 features                 | {train_score_c4:10.2f} | {test_score_c4:10.2f}\")\n",
    "print(f\"VQC, 4 features, RealAmplitudes | {train_score_q4:10.2f} | {test_score_q4:10.2f}\")\n",
    "print(f\"----------------------------------------------------------\")\n",
    "print(f\"SVC, 2 features                 | {train_score_c2:10.2f} | {test_score_c2:10.2f}\")\n",
    "print(f\"VQC, 2 features, RealAmplitudes | {train_score_q2_ra:10.2f} | {test_score_q2_ra:10.2f}\")\n",
    "print(f\"VQC, 2 features, EfficientSU2   | {train_score_q2_eff:10.2f} | {test_score_q2_eff:10.2f}\")"
   ]
  },
  {
   "attachments": {},
   "cell_type": "markdown",
   "id": "moderate-nashville",
   "metadata": {},
   "source": [
    "Unsurprisingly, the classical models perform better than their quantum counterparts, but classical ML has come a long way, and quantum ML has yet to reach that level of maturity. As we can see,  we achieved the best results using a classical support vector machine. But the quantum model trained on four features was also quite good. When we reduced the number of features, the performance of all models went down as expected. So, if resources permit training a model on a full-featured dataset without any reduction, you should train such a model. If not, you may expect to compromise between dataset size, training time, and score.\n",
    "\n",
    "Another observation is that even a simple ansatz change can lead to better results. The two-feature model with the `EfficientSU2` ansatz performs better than the one with `RealAmplitudes`. That means the choice of hyperparameters plays the same critical role in quantum ML as in classical ML, and searching for optimal hyperparameters may take a long time. You may apply the same techniques we use in classical ML, such as random/grid or more sophisticated approaches.\n",
    "\n",
    "We hope this brief tutorial helps you to take the leap from classical to quantum ML."
   ]
  },
  {
   "cell_type": "code",
   "execution_count": null,
   "id": "median-psychology",
   "metadata": {},
   "outputs": [],
   "source": [
    "import tutorial_magics\n",
    "\n",
    "%qiskit_version_table\n",
    "%qiskit_copyright"
   ]
  }
 ],
 "metadata": {
  "celltoolbar": "Tags",
  "kernelspec": {
   "display_name": "Python 3 (ipykernel)",
   "language": "python",
   "name": "python3"
  },
  "language_info": {
   "codemirror_mode": {
    "name": "ipython",
    "version": 3
   },
   "file_extension": ".py",
   "mimetype": "text/x-python",
   "name": "python",
   "nbconvert_exporter": "python",
   "pygments_lexer": "ipython3",
   "version": "3.10.18"
  },
  "vscode": {
   "interpreter": {
    "hash": "e2eee1ec3b7b75618be3bcd737c6b000914c302a788483aeea47c6724501a27e"
   }
  }
 },
 "nbformat": 4,
 "nbformat_minor": 5
}
